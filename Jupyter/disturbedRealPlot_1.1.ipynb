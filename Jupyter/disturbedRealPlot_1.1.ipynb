{
 "cells": [
  {
   "cell_type": "code",
   "execution_count": null,
   "metadata": {},
   "outputs": [],
   "source": [
    "import ctypes\n",
    "import numpy as np\n",
    "from matplotlib import pyplot as plt\n",
    "from matplotlib import animation\n",
    "\n",
    "%matplotlib notebook\n",
    "\n",
    "class trackingData(ctypes.Structure):\n",
    "    _fields_ = [('transmitterCount', ctypes.c_int),\n",
    "                ('pointCount', ctypes.c_int),\n",
    "                ('transmitterX', ctypes.POINTER(ctypes.c_double)),\n",
    "                ('transmitterY', ctypes.POINTER(ctypes.c_double)),\n",
    "                ('pointX', ctypes.POINTER(ctypes.c_double)),\n",
    "                ('pointY', ctypes.POINTER(ctypes.c_double))]\n",
    "1\n",
    "mydll = ctypes.cdll.LoadLibrary(r\"D:\\\\projects\\\\github\\\\IndoorPositioning\\\\x64\\\\Debug\\\\modPythonData_1.1.dll\")\n",
    "\n",
    "testFunc = mydll.importPythonData\n",
    "mydll.importPythonData.restype = ctypes.POINTER(trackingData)\n",
    "mydll.importPythonData.argtypes = [] \n",
    "\n",
    "result = testFunc()\n",
    "\n",
    "array_pointer1 = ctypes.cast(result.contents.transmitterX, ctypes.POINTER(ctypes.c_double * result.contents.transmitterCount))\n",
    "transmitterX = np.frombuffer(array_pointer1.contents, dtype = ctypes.c_double)\n",
    "\n",
    "array_pointer2 = ctypes.cast(result.contents.transmitterY, ctypes.POINTER(ctypes.c_double * result.contents.transmitterCount))\n",
    "transmitterY = np.frombuffer(array_pointer2.contents, dtype = ctypes.c_double)\n",
    "\n",
    "array_pointer3 = ctypes.cast(result.contents.pointX, ctypes.POINTER(ctypes.c_double * result.contents.pointCount))\n",
    "pointX = np.frombuffer(array_pointer3.contents, dtype = ctypes.c_double)\n",
    "\n",
    "array_pointer4 = ctypes.cast(result.contents.pointY, ctypes.POINTER(ctypes.c_double * result.contents.pointCount))\n",
    "pointY = np.frombuffer(array_pointer4.contents, dtype = ctypes.c_double)\n",
    "\n",
    "print(pointX)\n",
    "\n",
    "n = 300\n",
    "\n",
    "m = 1 # коэффициент ускорения\n",
    "fig = plt.figure(figsize=(9, 9))\n",
    "\n",
    "def animate(i, x, y, m = 5):\n",
    "    \n",
    "    plt.plot(x[:i], y[:i], color='black', lw=2)\n",
    "    plt.plot(x[:i], y[:i],'ro', ms=3 )\n",
    "    \n",
    "    plt.xlim(0, 17)\n",
    "    plt.ylim(0, 11)\n",
    "    plt.grid(ls='solid', lw=0.2)\n",
    "    \n",
    "anim = animation.FuncAnimation(fig, animate,  fargs=(pointX, pointY, m), frames=int(n/m)*10, interval=1, repeat=False)\n",
    "\n",
    "plt.scatter(transmitterX, transmitterY, c = 'deeppink')\n",
    "#plt.scatter(pointX, pointY)\n",
    "\n",
    "\n",
    "plt.show()"
   ]
  },
  {
   "cell_type": "code",
   "execution_count": null,
   "metadata": {},
   "outputs": [],
   "source": []
  }
 ],
 "metadata": {
  "kernelspec": {
   "display_name": "Python 3",
   "language": "python",
   "name": "python3"
  },
  "language_info": {
   "codemirror_mode": {
    "name": "ipython",
    "version": 3
   },
   "file_extension": ".py",
   "mimetype": "text/x-python",
   "name": "python",
   "nbconvert_exporter": "python",
   "pygments_lexer": "ipython3",
   "version": "3.7.6"
  }
 },
 "nbformat": 4,
 "nbformat_minor": 4
}
